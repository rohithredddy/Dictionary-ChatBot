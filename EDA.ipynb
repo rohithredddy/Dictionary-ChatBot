{
 "cells": [
  {
   "cell_type": "code",
   "execution_count": 48,
   "id": "13e52301-ae98-49b4-9fd5-b27ef5bb5a72",
   "metadata": {},
   "outputs": [],
   "source": [
    "import pandas as pd"
   ]
  },
  {
   "cell_type": "code",
   "execution_count": 50,
   "id": "ed1bc2ea-45ad-45d4-a10f-6833eb617c54",
   "metadata": {},
   "outputs": [],
   "source": [
    "df=pd.read_csv(\"dictionary.csv\")"
   ]
  },
  {
   "cell_type": "code",
   "execution_count": 52,
   "id": "66269f4b-de70-48b6-a56f-e960cccfe455",
   "metadata": {},
   "outputs": [
    {
     "data": {
      "text/html": [
       "<div>\n",
       "<style scoped>\n",
       "    .dataframe tbody tr th:only-of-type {\n",
       "        vertical-align: middle;\n",
       "    }\n",
       "\n",
       "    .dataframe tbody tr th {\n",
       "        vertical-align: top;\n",
       "    }\n",
       "\n",
       "    .dataframe thead th {\n",
       "        text-align: right;\n",
       "    }\n",
       "</style>\n",
       "<table border=\"1\" class=\"dataframe\">\n",
       "  <thead>\n",
       "    <tr style=\"text-align: right;\">\n",
       "      <th></th>\n",
       "      <th>Word</th>\n",
       "      <th>POS</th>\n",
       "      <th>Definition</th>\n",
       "    </tr>\n",
       "  </thead>\n",
       "  <tbody>\n",
       "    <tr>\n",
       "      <th>0</th>\n",
       "      <td>A</td>\n",
       "      <td>NaN</td>\n",
       "      <td>The first letter of the English and of many ot...</td>\n",
       "    </tr>\n",
       "    <tr>\n",
       "      <th>1</th>\n",
       "      <td>A</td>\n",
       "      <td>NaN</td>\n",
       "      <td>The name of the sixth tone in the model major ...</td>\n",
       "    </tr>\n",
       "    <tr>\n",
       "      <th>2</th>\n",
       "      <td>A</td>\n",
       "      <td>NaN</td>\n",
       "      <td>An adjective commonly called the indefinite ar...</td>\n",
       "    </tr>\n",
       "    <tr>\n",
       "      <th>3</th>\n",
       "      <td>A</td>\n",
       "      <td>NaN</td>\n",
       "      <td>In each; to or for each; as \"\"\"\"twenty leagues...</td>\n",
       "    </tr>\n",
       "    <tr>\n",
       "      <th>4</th>\n",
       "      <td>A</td>\n",
       "      <td>prep.</td>\n",
       "      <td>In; on; at; by.</td>\n",
       "    </tr>\n",
       "  </tbody>\n",
       "</table>\n",
       "</div>"
      ],
      "text/plain": [
       "  Word    POS                                         Definition\n",
       "0    A    NaN  The first letter of the English and of many ot...\n",
       "1    A    NaN  The name of the sixth tone in the model major ...\n",
       "2    A    NaN  An adjective commonly called the indefinite ar...\n",
       "3    A    NaN  In each; to or for each; as \"\"\"\"twenty leagues...\n",
       "4    A  prep.                                    In; on; at; by."
      ]
     },
     "execution_count": 52,
     "metadata": {},
     "output_type": "execute_result"
    }
   ],
   "source": [
    "df.head()"
   ]
  },
  {
   "cell_type": "code",
   "execution_count": 54,
   "id": "1f15e061-3649-4b7e-ac40-cc90ae476d99",
   "metadata": {},
   "outputs": [],
   "source": [
    "# dropping unnecessary columns\n",
    "df.drop('POS', axis=1, inplace=True)"
   ]
  },
  {
   "cell_type": "code",
   "execution_count": 56,
   "id": "ddc24baf-86b8-4403-9ec2-9d15bcc0549b",
   "metadata": {},
   "outputs": [
    {
     "data": {
      "text/html": [
       "<div>\n",
       "<style scoped>\n",
       "    .dataframe tbody tr th:only-of-type {\n",
       "        vertical-align: middle;\n",
       "    }\n",
       "\n",
       "    .dataframe tbody tr th {\n",
       "        vertical-align: top;\n",
       "    }\n",
       "\n",
       "    .dataframe thead th {\n",
       "        text-align: right;\n",
       "    }\n",
       "</style>\n",
       "<table border=\"1\" class=\"dataframe\">\n",
       "  <thead>\n",
       "    <tr style=\"text-align: right;\">\n",
       "      <th></th>\n",
       "      <th>Word</th>\n",
       "      <th>Definition</th>\n",
       "    </tr>\n",
       "  </thead>\n",
       "  <tbody>\n",
       "    <tr>\n",
       "      <th>0</th>\n",
       "      <td>A</td>\n",
       "      <td>The first letter of the English and of many ot...</td>\n",
       "    </tr>\n",
       "    <tr>\n",
       "      <th>1</th>\n",
       "      <td>A</td>\n",
       "      <td>The name of the sixth tone in the model major ...</td>\n",
       "    </tr>\n",
       "    <tr>\n",
       "      <th>2</th>\n",
       "      <td>A</td>\n",
       "      <td>An adjective commonly called the indefinite ar...</td>\n",
       "    </tr>\n",
       "    <tr>\n",
       "      <th>3</th>\n",
       "      <td>A</td>\n",
       "      <td>In each; to or for each; as \"\"\"\"twenty leagues...</td>\n",
       "    </tr>\n",
       "    <tr>\n",
       "      <th>4</th>\n",
       "      <td>A</td>\n",
       "      <td>In; on; at; by.</td>\n",
       "    </tr>\n",
       "  </tbody>\n",
       "</table>\n",
       "</div>"
      ],
      "text/plain": [
       "  Word                                         Definition\n",
       "0    A  The first letter of the English and of many ot...\n",
       "1    A  The name of the sixth tone in the model major ...\n",
       "2    A  An adjective commonly called the indefinite ar...\n",
       "3    A  In each; to or for each; as \"\"\"\"twenty leagues...\n",
       "4    A                                    In; on; at; by."
      ]
     },
     "execution_count": 56,
     "metadata": {},
     "output_type": "execute_result"
    }
   ],
   "source": [
    "df.head()"
   ]
  },
  {
   "cell_type": "code",
   "execution_count": 58,
   "id": "58cb995c-2a24-436d-9665-eb4cc5b490b2",
   "metadata": {},
   "outputs": [
    {
     "data": {
      "text/plain": [
       "(175733, 2)"
      ]
     },
     "execution_count": 58,
     "metadata": {},
     "output_type": "execute_result"
    }
   ],
   "source": [
    "df.shape"
   ]
  },
  {
   "cell_type": "code",
   "execution_count": 60,
   "id": "38449567-36b0-4dc4-b1da-8f1376dfccc0",
   "metadata": {},
   "outputs": [],
   "source": [
    "#checking missing values\n",
    "df.isnull().sum()\n",
    "# Fill missing values (NaN) with the string \"NaN\"\n",
    "df = df.fillna('NaN')\n"
   ]
  },
  {
   "cell_type": "code",
   "execution_count": 62,
   "id": "972f81ec-ead4-4a08-9387-0e39873631cc",
   "metadata": {},
   "outputs": [
    {
     "data": {
      "text/plain": [
       "29"
      ]
     },
     "execution_count": 62,
     "metadata": {},
     "output_type": "execute_result"
    }
   ],
   "source": [
    "# checking duplicates\n",
    "df.duplicated().sum()"
   ]
  },
  {
   "cell_type": "code",
   "execution_count": 64,
   "id": "d7fcaf4e-e4dc-49f8-aee6-ddcd40f964bd",
   "metadata": {},
   "outputs": [],
   "source": [
    "# Remove duplicate rows\n",
    "df1= df.drop_duplicates()\n"
   ]
  },
  {
   "cell_type": "code",
   "execution_count": 66,
   "id": "8bda32f4-b67f-41a1-8ff5-a3a721df73b6",
   "metadata": {},
   "outputs": [
    {
     "data": {
      "text/plain": [
       "(175704, 2)"
      ]
     },
     "execution_count": 66,
     "metadata": {},
     "output_type": "execute_result"
    }
   ],
   "source": [
    "df1.shape"
   ]
  },
  {
   "cell_type": "code",
   "execution_count": 68,
   "id": "87e7c494-c9ea-4da8-bcac-fcbe00ccf817",
   "metadata": {},
   "outputs": [
    {
     "data": {
      "text/html": [
       "<div>\n",
       "<style scoped>\n",
       "    .dataframe tbody tr th:only-of-type {\n",
       "        vertical-align: middle;\n",
       "    }\n",
       "\n",
       "    .dataframe tbody tr th {\n",
       "        vertical-align: top;\n",
       "    }\n",
       "\n",
       "    .dataframe thead th {\n",
       "        text-align: right;\n",
       "    }\n",
       "</style>\n",
       "<table border=\"1\" class=\"dataframe\">\n",
       "  <thead>\n",
       "    <tr style=\"text-align: right;\">\n",
       "      <th></th>\n",
       "      <th>Word</th>\n",
       "      <th>Definition</th>\n",
       "    </tr>\n",
       "  </thead>\n",
       "  <tbody>\n",
       "    <tr>\n",
       "      <th>0</th>\n",
       "      <td>A</td>\n",
       "      <td>The first letter of the English and of many ot...</td>\n",
       "    </tr>\n",
       "    <tr>\n",
       "      <th>1</th>\n",
       "      <td>A</td>\n",
       "      <td>The name of the sixth tone in the model major ...</td>\n",
       "    </tr>\n",
       "    <tr>\n",
       "      <th>2</th>\n",
       "      <td>A</td>\n",
       "      <td>An adjective commonly called the indefinite ar...</td>\n",
       "    </tr>\n",
       "    <tr>\n",
       "      <th>3</th>\n",
       "      <td>A</td>\n",
       "      <td>In each; to or for each; as \"\"\"\"twenty leagues...</td>\n",
       "    </tr>\n",
       "    <tr>\n",
       "      <th>4</th>\n",
       "      <td>A</td>\n",
       "      <td>In; on; at; by.</td>\n",
       "    </tr>\n",
       "  </tbody>\n",
       "</table>\n",
       "</div>"
      ],
      "text/plain": [
       "  Word                                         Definition\n",
       "0    A  The first letter of the English and of many ot...\n",
       "1    A  The name of the sixth tone in the model major ...\n",
       "2    A  An adjective commonly called the indefinite ar...\n",
       "3    A  In each; to or for each; as \"\"\"\"twenty leagues...\n",
       "4    A                                    In; on; at; by."
      ]
     },
     "execution_count": 68,
     "metadata": {},
     "output_type": "execute_result"
    }
   ],
   "source": [
    "df1.head()"
   ]
  },
  {
   "cell_type": "code",
   "execution_count": 70,
   "id": "228fc60d-0cac-4f50-af63-7ddf079bd9fe",
   "metadata": {},
   "outputs": [
    {
     "name": "stdout",
     "output_type": "stream",
     "text": [
      "<class 'pandas.core.frame.DataFrame'>\n",
      "Index: 175704 entries, 0 to 175723\n",
      "Data columns (total 2 columns):\n",
      " #   Column      Non-Null Count   Dtype \n",
      "---  ------      --------------   ----- \n",
      " 0   Word        175704 non-null  object\n",
      " 1   Definition  175704 non-null  object\n",
      "dtypes: object(2)\n",
      "memory usage: 4.0+ MB\n"
     ]
    }
   ],
   "source": [
    "df1.info()"
   ]
  },
  {
   "cell_type": "code",
   "execution_count": 75,
   "id": "cc3a5111-8395-4e8f-8930-dda8eae1c414",
   "metadata": {},
   "outputs": [],
   "source": [
    "df1.to_csv('cleaned_dataset.csv', index=False)\n"
   ]
  },
  {
   "cell_type": "code",
   "execution_count": null,
   "id": "8d68394d-39c6-482d-a193-e8135c9943df",
   "metadata": {},
   "outputs": [],
   "source": [
    "ACCURACY"
   ]
  },
  {
   "cell_type": "markdown",
   "id": "df2bfb3a",
   "metadata": {},
   "source": []
  },
  {
   "cell_type": "code",
   "execution_count": 2,
   "id": "9f59f960-1cd9-4e39-91b8-5dcb4a50459f",
   "metadata": {},
   "outputs": [
    {
     "name": "stdout",
     "output_type": "stream",
     "text": [
      "Enter 'define' to look up a word, 'add' to add a word, or 'exit' to quit:  define\n",
      "Enter the word to define:  man\n"
     ]
    },
    {
     "name": "stdout",
     "output_type": "stream",
     "text": [
      "man: A human being; -- opposed tobeast.\n"
     ]
    },
    {
     "name": "stdout",
     "output_type": "stream",
     "text": [
      "Enter 'define' to look up a word, 'add' to add a word, or 'exit' to quit:  exit\n"
     ]
    }
   ],
   "source": [
    "import pandas as pd\n",
    "from sklearn.feature_extraction.text import TfidfVectorizer\n",
    "from sklearn.metrics.pairwise import cosine_similarity\n",
    "import os\n",
    "from nltk.stem import PorterStemmer\n",
    "\n",
    "# Initialize the stemmer\n",
    "stemmer = PorterStemmer()\n",
    "\n",
    "# Load the dictionary CSV file\n",
    "def load_data():\n",
    "    if os.path.exists('dictionary.csv'):\n",
    "        data = pd.read_csv('dictionary.csv')\n",
    "    else:\n",
    "        data = pd.DataFrame(columns=['Word', 'Definition'])\n",
    "    return data\n",
    "\n",
    "# Save the dictionary back to CSV\n",
    "def save_data(data):\n",
    "    data.to_csv('dictionary.csv', index=False)\n",
    "\n",
    "# Clean dataset and apply stemming to the words\n",
    "data = load_data()\n",
    "words = data['Word'].fillna('').str.lower().values  # convert words to lowercase\n",
    "definitions = data['Definition'].fillna('').values\n",
    "\n",
    "# Apply stemming to the words\n",
    "stemmed_words = [stemmer.stem(word) for word in words]\n",
    "\n",
    "# Vectorize the words for similarity search\n",
    "vectorizer = TfidfVectorizer()\n",
    "word_vectors = vectorizer.fit_transform(stemmed_words)\n",
    "\n",
    "# Define a function to handle word definitions\n",
    "def get_word_definition(input_word):\n",
    "    input_word_lower = input_word.lower()  # Lowercase the input for consistency\n",
    "    input_word_stemmed = stemmer.stem(input_word_lower)\n",
    "\n",
    "    # Exact match check (case-insensitive)\n",
    "    if input_word_lower in words:\n",
    "        idx = list(words).index(input_word_lower)\n",
    "        return words[idx], definitions[idx]\n",
    "\n",
    "    # Cosine similarity search if no exact match is found\n",
    "    input_vector = vectorizer.transform([input_word_stemmed])\n",
    "    similarities = cosine_similarity(input_vector, word_vectors).flatten()\n",
    "\n",
    "    # Find the best match based on cosine similarity\n",
    "    best_match_idx = similarities.argmax()\n",
    "\n",
    "    # Set a similarity threshold to filter out irrelevant matches\n",
    "    similarity_threshold = 0.3  # You can adjust this threshold\n",
    "    if similarities[best_match_idx] >= similarity_threshold:\n",
    "        return words[best_match_idx], definitions[best_match_idx]\n",
    "\n",
    "    # No suitable match found\n",
    "    return None, None\n",
    "\n",
    "# Function to add a new word to the dictionary\n",
    "def add_word(word, definition):\n",
    "    new_entry = pd.DataFrame({'Word': [word], 'Definition': [definition]})\n",
    "    global data, words, definitions, stemmed_words, word_vectors\n",
    "\n",
    "    data = pd.concat([data, new_entry], ignore_index=True)\n",
    "    save_data(data)\n",
    "\n",
    "    # Recompute the vectorizer with the new dataset\n",
    "    words = data['Word'].str.lower().values  # convert all words to lowercase\n",
    "    definitions = data['Definition'].values\n",
    "\n",
    "    # Reapply stemming and vectorization after adding the new word\n",
    "    stemmed_words = [stemmer.stem(word) for word in words]\n",
    "    word_vectors = vectorizer.fit_transform(stemmed_words)\n",
    "\n",
    "# Example usage\n",
    "if __name__ == '__main__':\n",
    "    while True:\n",
    "        action = input(\"Enter 'define' to look up a word, 'add' to add a word, or 'exit' to quit: \").strip().lower()\n",
    "        if action == 'define':\n",
    "            word_to_define = input(\"Enter the word to define: \").strip()\n",
    "            retrieved_word, retrieved_definition = get_word_definition(word_to_define)\n",
    "            if retrieved_definition:\n",
    "                print(f\"{retrieved_word}: {retrieved_definition}\")\n",
    "            else:\n",
    "                print(\"Word not found.\")\n",
    "        elif action == 'add':\n",
    "            new_word = input(\"Enter the word to add: \").strip()\n",
    "            new_definition = input(\"Enter the definition: \").strip()\n",
    "            add_word(new_word, new_definition)\n",
    "            print(f\"The word '{new_word}' has been added.\")\n",
    "        elif action == 'exit':\n",
    "            break\n",
    "        else:\n",
    "            print(\"Invalid option. Please try again.\")\n"
   ]
  },
  {
   "cell_type": "code",
   "execution_count": 4,
   "id": "d606877a-0aca-45c6-9bc6-ffec60de2540",
   "metadata": {},
   "outputs": [
    {
     "name": "stdout",
     "output_type": "stream",
     "text": [
      "Accuracy: 71.84%\n"
     ]
    }
   ],
   "source": [
    "import pandas as pd\n",
    "import os\n",
    "from sklearn.model_selection import train_test_split\n",
    "# from dictionary_bot import get_word_definition  # Import the function from your main application\n",
    "\n",
    "# Function to load dictionary from CSV\n",
    "def load_dictionary_from_csv():\n",
    "    if os.path.exists('dictionary.csv'):\n",
    "        data = pd.read_csv('dictionary.csv')\n",
    "        return data\n",
    "    return pd.DataFrame(columns=['Word', 'Definition'])\n",
    "\n",
    "# Load all data from CSV\n",
    "data = load_dictionary_from_csv()\n",
    "\n",
    "# Drop rows with NaN values to avoid issues\n",
    "data.dropna(inplace=True)\n",
    "\n",
    "# Split the data into training and testing sets (80% training, 20% testing)\n",
    "train_data, test_data = train_test_split(data, test_size=0.2, random_state=42)\n",
    "\n",
    "# Create a dictionary for easy access to test data\n",
    "test_data_dict = dict(zip(test_data['Word'].str.lower(), test_data['Definition']))\n",
    "\n",
    "def evaluate_model(test_data_dict):\n",
    "    correct_predictions = 0\n",
    "    total_predictions = len(test_data_dict)\n",
    "\n",
    "    for word, expected_definition in test_data_dict.items():\n",
    "        # Check if the key is a string\n",
    "        if isinstance(word, str):\n",
    "            retrieved_word, retrieved_definition = get_word_definition(word)\n",
    "            \n",
    "            # Check if the retrieved definition matches the expected definition\n",
    "            if retrieved_definition and retrieved_definition.strip() == expected_definition.strip():\n",
    "                correct_predictions += 1\n",
    "\n",
    "    accuracy = (correct_predictions / total_predictions) * 100  # Calculate percentage\n",
    "    print(f'Accuracy: {accuracy:.2f}%')\n",
    "\n",
    "# Call the evaluation function with the test dataset\n",
    "evaluate_model(test_data_dict)\n"
   ]
  },
  {
   "cell_type": "code",
   "execution_count": null,
   "id": "34adf627-38ee-4cb2-9563-a556f8c19eef",
   "metadata": {},
   "outputs": [],
   "source": []
  }
 ],
 "metadata": {
  "kernelspec": {
   "display_name": "Python 3 (ipykernel)",
   "language": "python",
   "name": "python3"
  },
  "language_info": {
   "codemirror_mode": {
    "name": "ipython",
    "version": 3
   },
   "file_extension": ".py",
   "mimetype": "text/x-python",
   "name": "python",
   "nbconvert_exporter": "python",
   "pygments_lexer": "ipython3",
   "version": "3.11.9"
  }
 },
 "nbformat": 4,
 "nbformat_minor": 5
}
